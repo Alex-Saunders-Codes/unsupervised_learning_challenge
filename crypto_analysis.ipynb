{
 "cells": [
  {
   "cell_type": "code",
   "execution_count": 1,
   "id": "0f97d916-c451-4b73-a799-e9a391b25b65",
   "metadata": {},
   "outputs": [],
   "source": [
    "import pandas as pd"
   ]
  },
  {
   "cell_type": "code",
   "execution_count": 2,
   "id": "e069af6f-c07d-4c6f-94c6-22d1f6475275",
   "metadata": {},
   "outputs": [],
   "source": [
    "cryptos = pd.read_csv('crypto_data.csv')"
   ]
  },
  {
   "cell_type": "code",
   "execution_count": 3,
   "id": "d1480b6c-7cf6-412a-bd3c-326059d4e475",
   "metadata": {},
   "outputs": [
    {
     "data": {
      "text/html": [
       "<div>\n",
       "<style scoped>\n",
       "    .dataframe tbody tr th:only-of-type {\n",
       "        vertical-align: middle;\n",
       "    }\n",
       "\n",
       "    .dataframe tbody tr th {\n",
       "        vertical-align: top;\n",
       "    }\n",
       "\n",
       "    .dataframe thead th {\n",
       "        text-align: right;\n",
       "    }\n",
       "</style>\n",
       "<table border=\"1\" class=\"dataframe\">\n",
       "  <thead>\n",
       "    <tr style=\"text-align: right;\">\n",
       "      <th></th>\n",
       "      <th>Unnamed: 0</th>\n",
       "      <th>CoinName</th>\n",
       "      <th>Algorithm</th>\n",
       "      <th>IsTrading</th>\n",
       "      <th>ProofType</th>\n",
       "      <th>TotalCoinsMined</th>\n",
       "      <th>TotalCoinSupply</th>\n",
       "    </tr>\n",
       "  </thead>\n",
       "  <tbody>\n",
       "    <tr>\n",
       "      <th>0</th>\n",
       "      <td>42</td>\n",
       "      <td>42 Coin</td>\n",
       "      <td>Scrypt</td>\n",
       "      <td>True</td>\n",
       "      <td>PoW/PoS</td>\n",
       "      <td>4.199995e+01</td>\n",
       "      <td>42</td>\n",
       "    </tr>\n",
       "    <tr>\n",
       "      <th>1</th>\n",
       "      <td>365</td>\n",
       "      <td>365Coin</td>\n",
       "      <td>X11</td>\n",
       "      <td>True</td>\n",
       "      <td>PoW/PoS</td>\n",
       "      <td>NaN</td>\n",
       "      <td>2300000000</td>\n",
       "    </tr>\n",
       "    <tr>\n",
       "      <th>2</th>\n",
       "      <td>404</td>\n",
       "      <td>404Coin</td>\n",
       "      <td>Scrypt</td>\n",
       "      <td>True</td>\n",
       "      <td>PoW/PoS</td>\n",
       "      <td>1.055185e+09</td>\n",
       "      <td>532000000</td>\n",
       "    </tr>\n",
       "    <tr>\n",
       "      <th>3</th>\n",
       "      <td>611</td>\n",
       "      <td>SixEleven</td>\n",
       "      <td>SHA-256</td>\n",
       "      <td>True</td>\n",
       "      <td>PoW</td>\n",
       "      <td>NaN</td>\n",
       "      <td>611000</td>\n",
       "    </tr>\n",
       "    <tr>\n",
       "      <th>4</th>\n",
       "      <td>808</td>\n",
       "      <td>808</td>\n",
       "      <td>SHA-256</td>\n",
       "      <td>True</td>\n",
       "      <td>PoW/PoS</td>\n",
       "      <td>0.000000e+00</td>\n",
       "      <td>0</td>\n",
       "    </tr>\n",
       "  </tbody>\n",
       "</table>\n",
       "</div>"
      ],
      "text/plain": [
       "  Unnamed: 0   CoinName Algorithm  IsTrading ProofType  TotalCoinsMined  \\\n",
       "0         42    42 Coin    Scrypt       True   PoW/PoS     4.199995e+01   \n",
       "1        365    365Coin       X11       True   PoW/PoS              NaN   \n",
       "2        404    404Coin    Scrypt       True   PoW/PoS     1.055185e+09   \n",
       "3        611  SixEleven   SHA-256       True       PoW              NaN   \n",
       "4        808        808   SHA-256       True   PoW/PoS     0.000000e+00   \n",
       "\n",
       "  TotalCoinSupply  \n",
       "0              42  \n",
       "1      2300000000  \n",
       "2       532000000  \n",
       "3          611000  \n",
       "4               0  "
      ]
     },
     "execution_count": 3,
     "metadata": {},
     "output_type": "execute_result"
    }
   ],
   "source": [
    "cryptos.head()"
   ]
  },
  {
   "cell_type": "code",
   "execution_count": 12,
   "id": "9fbc9c3f-db7e-4bc1-992d-405fd90d5c02",
   "metadata": {},
   "outputs": [],
   "source": [
    "traded = cryptos.loc[cryptos['IsTrading']].copy()"
   ]
  },
  {
   "cell_type": "code",
   "execution_count": 13,
   "id": "be53b6b8-9cf9-4489-a124-c505dfdb0bc0",
   "metadata": {},
   "outputs": [
    {
     "name": "stdout",
     "output_type": "stream",
     "text": [
      "1252 1144\n"
     ]
    }
   ],
   "source": [
    "print(len(cryptos), len(traded))"
   ]
  },
  {
   "cell_type": "code",
   "execution_count": 14,
   "id": "0ecc8955-6512-4358-bd18-94e2a1f99775",
   "metadata": {},
   "outputs": [],
   "source": [
    "traded.drop(columns=['IsTrading', 'CoinName', 'Unnamed: 0'], inplace=True)"
   ]
  },
  {
   "cell_type": "code",
   "execution_count": 15,
   "id": "dd2f4d1e-aeb8-4319-a8c6-c069f264b186",
   "metadata": {},
   "outputs": [],
   "source": [
    "traded.dropna(axis=0, how='any', inplace=True)"
   ]
  },
  {
   "cell_type": "code",
   "execution_count": 16,
   "id": "91f0e962-e3cf-4fbe-ace0-d1b103d25fcb",
   "metadata": {},
   "outputs": [
    {
     "data": {
      "text/plain": [
       "685"
      ]
     },
     "execution_count": 16,
     "metadata": {},
     "output_type": "execute_result"
    }
   ],
   "source": [
    "len(traded)"
   ]
  },
  {
   "cell_type": "code",
   "execution_count": 17,
   "id": "62f83a84-833d-4de4-b11b-f5bc5f1816b0",
   "metadata": {},
   "outputs": [],
   "source": [
    "mined = traded.loc[traded['TotalCoinsMined'] > 0].copy()"
   ]
  },
  {
   "cell_type": "code",
   "execution_count": 18,
   "id": "7e9982a6-f12a-4f50-b0d7-4e3f372e74dd",
   "metadata": {},
   "outputs": [
    {
     "data": {
      "text/plain": [
       "532"
      ]
     },
     "execution_count": 18,
     "metadata": {},
     "output_type": "execute_result"
    }
   ],
   "source": [
    "len(mined)"
   ]
  },
  {
   "cell_type": "code",
   "execution_count": 26,
   "id": "17de6dfe-2567-4277-ae00-2b38042b5a1d",
   "metadata": {},
   "outputs": [
    {
     "data": {
      "text/html": [
       "<div>\n",
       "<style scoped>\n",
       "    .dataframe tbody tr th:only-of-type {\n",
       "        vertical-align: middle;\n",
       "    }\n",
       "\n",
       "    .dataframe tbody tr th {\n",
       "        vertical-align: top;\n",
       "    }\n",
       "\n",
       "    .dataframe thead th {\n",
       "        text-align: right;\n",
       "    }\n",
       "</style>\n",
       "<table border=\"1\" class=\"dataframe\">\n",
       "  <thead>\n",
       "    <tr style=\"text-align: right;\">\n",
       "      <th></th>\n",
       "      <th>Algorithm</th>\n",
       "      <th>ProofType</th>\n",
       "      <th>TotalCoinsMined</th>\n",
       "      <th>TotalCoinSupply</th>\n",
       "    </tr>\n",
       "  </thead>\n",
       "  <tbody>\n",
       "    <tr>\n",
       "      <th>0</th>\n",
       "      <td>Scrypt</td>\n",
       "      <td>PoW/PoS</td>\n",
       "      <td>4.199995e+01</td>\n",
       "      <td>42</td>\n",
       "    </tr>\n",
       "    <tr>\n",
       "      <th>2</th>\n",
       "      <td>Scrypt</td>\n",
       "      <td>PoW/PoS</td>\n",
       "      <td>1.055185e+09</td>\n",
       "      <td>532000000</td>\n",
       "    </tr>\n",
       "    <tr>\n",
       "      <th>5</th>\n",
       "      <td>X13</td>\n",
       "      <td>PoW/PoS</td>\n",
       "      <td>2.927942e+10</td>\n",
       "      <td>314159265359</td>\n",
       "    </tr>\n",
       "    <tr>\n",
       "      <th>7</th>\n",
       "      <td>SHA-256</td>\n",
       "      <td>PoW</td>\n",
       "      <td>1.792718e+07</td>\n",
       "      <td>21000000</td>\n",
       "    </tr>\n",
       "    <tr>\n",
       "      <th>8</th>\n",
       "      <td>Ethash</td>\n",
       "      <td>PoW</td>\n",
       "      <td>1.076842e+08</td>\n",
       "      <td>0</td>\n",
       "    </tr>\n",
       "  </tbody>\n",
       "</table>\n",
       "</div>"
      ],
      "text/plain": [
       "  Algorithm ProofType  TotalCoinsMined TotalCoinSupply\n",
       "0    Scrypt   PoW/PoS     4.199995e+01              42\n",
       "2    Scrypt   PoW/PoS     1.055185e+09       532000000\n",
       "5       X13   PoW/PoS     2.927942e+10    314159265359\n",
       "7   SHA-256       PoW     1.792718e+07        21000000\n",
       "8    Ethash       PoW     1.076842e+08               0"
      ]
     },
     "execution_count": 26,
     "metadata": {},
     "output_type": "execute_result"
    }
   ],
   "source": [
    "mined.head()"
   ]
  },
  {
   "cell_type": "code",
   "execution_count": 27,
   "id": "743aeae2-38b4-4f56-8531-904977757c52",
   "metadata": {},
   "outputs": [
    {
     "data": {
      "text/plain": [
       "Algorithm           object\n",
       "ProofType           object\n",
       "TotalCoinsMined    float64\n",
       "TotalCoinSupply     object\n",
       "dtype: object"
      ]
     },
     "execution_count": 27,
     "metadata": {},
     "output_type": "execute_result"
    }
   ],
   "source": [
    "mined.dtypes"
   ]
  },
  {
   "cell_type": "code",
   "execution_count": 32,
   "id": "24eb2189-d710-45be-ac6c-52124a18913e",
   "metadata": {},
   "outputs": [],
   "source": [
    "mined['TotalCoinSupply'] = mined['TotalCoinSupply'].apply(lambda x: float(x))"
   ]
  },
  {
   "cell_type": "code",
   "execution_count": 34,
   "id": "882d4925-aab6-4927-8b19-839a042d16b0",
   "metadata": {},
   "outputs": [
    {
     "data": {
      "text/plain": [
       "98"
      ]
     },
     "execution_count": 34,
     "metadata": {},
     "output_type": "execute_result"
    }
   ],
   "source": [
    "ohencode = pd.get_dummies(mined, prefix=['algo', 'prooftype'])\n",
    "len(ohencode.columns)"
   ]
  },
  {
   "cell_type": "markdown",
   "id": "e24916ed-4cb3-42a9-8a9b-59d73a1428c1",
   "metadata": {},
   "source": [
    "We went from 4 columns to almost 100. I happen to know that there were over 70 distinct values under the algorithm column. It is possible that we should have instead created an 'other' clump for all values that had only 1 instance of the algorithm in usage."
   ]
  },
  {
   "cell_type": "code",
   "execution_count": 35,
   "id": "96daf378-b7a8-4f03-be1d-f27b3aad3770",
   "metadata": {},
   "outputs": [],
   "source": [
    "from sklearn.preprocessing import StandardScaler\n",
    "mine_scaled = StandardScaler().fit_transform(ohencode)"
   ]
  },
  {
   "cell_type": "code",
   "execution_count": 37,
   "id": "846e1f56-9769-4184-84dc-6b8672700b96",
   "metadata": {},
   "outputs": [],
   "source": [
    "from sklearn.decomposition import PCA\n",
    "pca = PCA(n_components=.9)\n",
    "crypto_pca = pca.fit_transform(mine_scaled)"
   ]
  },
  {
   "cell_type": "code",
   "execution_count": 44,
   "id": "9215f945-d397-4d6c-b698-56eff9cdd8b4",
   "metadata": {},
   "outputs": [
    {
     "name": "stdout",
     "output_type": "stream",
     "text": [
      "74\n"
     ]
    },
    {
     "data": {
      "text/plain": [
       "array([0.0279317 , 0.02141802, 0.02051615, 0.02044661, 0.0204466 ,\n",
       "       0.0204466 , 0.0204466 , 0.02042554, 0.01870913, 0.01756291,\n",
       "       0.01741106, 0.01629007, 0.01596154, 0.01551138, 0.01435005,\n",
       "       0.01321122, 0.01236583, 0.01206255, 0.01104295, 0.01071499,\n",
       "       0.01049079, 0.01040887, 0.01039089, 0.01037741, 0.01035414,\n",
       "       0.01034034, 0.01029605, 0.01028233, 0.01028139, 0.01028139,\n",
       "       0.01028138, 0.01027965, 0.01027051, 0.01026331, 0.01026202,\n",
       "       0.01025761, 0.01025565, 0.01025068, 0.01024924, 0.01024279,\n",
       "       0.01024259, 0.01024259, 0.0102419 , 0.01024018, 0.01023676,\n",
       "       0.01023495, 0.01023   , 0.01022442, 0.0102233 , 0.0102233 ,\n",
       "       0.0102233 , 0.0102233 , 0.0102233 , 0.0102233 , 0.0102233 ,\n",
       "       0.0102233 , 0.0102233 , 0.0102233 , 0.0102233 , 0.0102233 ,\n",
       "       0.0102233 , 0.0102233 , 0.0102233 , 0.0102233 , 0.0102233 ,\n",
       "       0.0102233 , 0.0102233 , 0.0102233 , 0.0102233 , 0.0102233 ,\n",
       "       0.0102233 , 0.0102233 , 0.0102233 , 0.0102233 ])"
      ]
     },
     "execution_count": 44,
     "metadata": {},
     "output_type": "execute_result"
    }
   ],
   "source": [
    "print(len(pca.explained_variance_ratio_))\n",
    "(pca.explained_variance_ratio_)"
   ]
  },
  {
   "cell_type": "markdown",
   "id": "062a5cdf-bad5-4ca5-9ac8-dca5be88eb00",
   "metadata": {},
   "source": [
    "We have only reduced our number of features by 20 in this case, which is still cause for some concern."
   ]
  },
  {
   "cell_type": "code",
   "execution_count": 46,
   "id": "f09521df-a896-484c-a4c5-cb3ab8829199",
   "metadata": {},
   "outputs": [
    {
     "data": {
      "text/plain": [
       "(532, 2)"
      ]
     },
     "execution_count": 46,
     "metadata": {},
     "output_type": "execute_result"
    }
   ],
   "source": [
    "from sklearn.manifold import TSNE\n",
    "tsne = TSNE(learning_rate=35)\n",
    "tsne_crypto = tsne.fit_transform(crypto_pca)\n",
    "tsne_crypto.shape"
   ]
  },
  {
   "cell_type": "markdown",
   "id": "510f8834-1f05-44eb-ae5f-d0b41012c0c0",
   "metadata": {},
   "source": [
    "t-SNE has successfully reduced us to two features."
   ]
  },
  {
   "cell_type": "code",
   "execution_count": 50,
   "id": "bbf389c0-5555-4336-8fe5-9e8d151a0663",
   "metadata": {},
   "outputs": [],
   "source": [
    "import matplotlib.pyplot as plt"
   ]
  },
  {
   "cell_type": "code",
   "execution_count": 56,
   "id": "be7b3281-0d94-4051-b11d-cb72b12af25c",
   "metadata": {},
   "outputs": [
    {
     "data": {
      "text/plain": [
       "<matplotlib.collections.PathCollection at 0x22d6d1bd2e0>"
      ]
     },
     "execution_count": 56,
     "metadata": {},
     "output_type": "execute_result"
    },
    {
     "data": {
      "image/png": "[encoded data removed]",
      "text/plain": [
       "<Figure size 432x288 with 1 Axes>"
      ]
     },
     "metadata": {
      "needs_background": "light"
     },
     "output_type": "display_data"
    }
   ],
   "source": [
    "plt.scatter(tsne_crypto[:,0], tsne_crypto[:,1], alpha=0.5, edgecolors='black')"
   ]
  },
  {
   "cell_type": "code",
   "execution_count": null,
   "id": "fde0a33d-0b25-403c-8f73-bff164235039",
   "metadata": {},
   "outputs": [],
   "source": []
  }
 ],
 "metadata": {
  "kernelspec": {
   "display_name": "Python 3",
   "language": "python",
   "name": "python3"
  },
  "language_info": {
   "codemirror_mode": {
    "name": "ipython",
    "version": 3
   },
   "file_extension": ".py",
   "mimetype": "text/x-python",
   "name": "python",
   "nbconvert_exporter": "python",
   "pygments_lexer": "ipython3",
   "version": "3.8.8"
  }
 },
 "nbformat": 4,
 "nbformat_minor": 5
}
